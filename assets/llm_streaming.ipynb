{
 "cells": [
  {
   "cell_type": "code",
   "execution_count": 1,
   "metadata": {},
   "outputs": [
    {
     "data": {
      "text/plain": [
       "True"
      ]
     },
     "execution_count": 1,
     "metadata": {},
     "output_type": "execute_result"
    }
   ],
   "source": [
    "import os\n",
    "from dotenv import find_dotenv, load_dotenv\n",
    "load_dotenv(find_dotenv(\".env\"))"
   ]
  },
  {
   "cell_type": "code",
   "execution_count": 2,
   "metadata": {},
   "outputs": [],
   "source": [
    "OPENAI_API_KEY = os.getenv(\"OPENAI_API_KEY\")\n",
    "\n",
    "AWS_ACCESS_KEY_ID = os.getenv(\"AWS_ACCESS_KEY_ID\")\n",
    "AWS_SECRET_ACCESS_KEY = os.getenv(\"AWS_SECRET_ACCESS_KEY\")\n",
    "\n",
    "WX_API_KEY = os.getenv(\"WX_API_KEY\")\n",
    "WX_PROJECT_ID = os.getenv(\"WX_PROJECT_ID\")\n",
    "IBM_CLOUD_URL = os.getenv(\"IBM_CLOUD_URL\")"
   ]
  },
  {
   "cell_type": "code",
   "execution_count": null,
   "metadata": {},
   "outputs": [],
   "source": []
  },
  {
   "cell_type": "markdown",
   "metadata": {},
   "source": [
    "## OPENAI"
   ]
  },
  {
   "cell_type": "code",
   "execution_count": 3,
   "metadata": {},
   "outputs": [],
   "source": [
    "from openai import OpenAI\n",
    "client = OpenAI()\n",
    "\n",
    "stream = client.chat.completions.create(\n",
    "    model=\"gpt-3.5-turbo\",\n",
    "    messages=[{\"role\": \"user\", \"content\": \"Tell me about history of uttrakhand in 20 lines.\"}],\n",
    "    max_tokens=512,\n",
    "    stream=True,\n",
    ")"
   ]
  },
  {
   "cell_type": "code",
   "execution_count": 4,
   "metadata": {},
   "outputs": [
    {
     "data": {
      "text/plain": [
       "openai.Stream"
      ]
     },
     "execution_count": 4,
     "metadata": {},
     "output_type": "execute_result"
    }
   ],
   "source": [
    "type(stream)"
   ]
  },
  {
   "cell_type": "code",
   "execution_count": 5,
   "metadata": {},
   "outputs": [
    {
     "name": "stdout",
     "output_type": "stream",
     "text": [
      "The history of Uttarakhand, formerly known as Uttaranchal, dates back to ancient times when it was part of the Kuru and Panchala kingdoms mentioned in the Mahabharata.\n",
      "\n",
      "The region was later ruled by various dynasties including the Katyuris, Chandras, and Palas before coming under the control of the Delhi Sultanate in the 14th century.\n",
      "\n",
      "During the Mughal period, Uttarakhand was part of the province of Delhi and was later annexed by the Gurkhas of Nepal in the early 19th century.\n",
      "\n",
      "The British East India Company gained control of the region following the Anglo-Nepalese War in 1816 and it became part of the British Indian Empire.\n",
      "\n",
      "After independence in 1947, Uttarakhand was initially a part of the state of Uttar Pradesh before becoming a separate state in 2000.\n",
      "\n",
      "The state is known for its rich cultural heritage, with many ancient temples, shrines, and pilgrimage sites dotting the landscape.\n",
      "\n",
      "Uttarakhand is also home to the famous Char Dham Yatra, a pilgrimage circuit that includes the sacred sites of Yamunotri, Gangotri, Kedarnath, and Badrinath.\n",
      "\n",
      "The region has a strong tradition of folk music and dance, with many local festivals and cultural events celebrated throughout the year.\n",
      "\n",
      "Uttarakhand is also known for its natural beauty, with the Himalayan mountains, lush forests, and pristine rivers attracting tourists from around the world.\n",
      "\n",
      "The state has faced challenges in recent years, including environmental degradation, deforestation, and natural disasters such as floods and landslides.\n",
      "\n",
      "In 2013, Uttarakhand was hit by devastating floods that caused widespread damage and loss of life, prompting a massive rescue and relief operation.\n",
      "\n",
      "Despite these challenges, the people of Uttarakhand have shown resilience and strength in rebuilding their communities and restoring their way of life.\n",
      "\n",
      "Uttarakhand is home to diverse communities and ethnic groups, each with their own unique traditions and customs.\n",
      "\n",
      "The state has a predominantly agrarian economy, with agriculture, horticulture, and tourism being the main sources of livelihood for its residents.\n",
      "\n",
      "Uttarakhand has made strides in education and healthcare, with efforts being made to improve the quality of life for its citizens.\n",
      "\n",
      "The state is known for its vibrant arts and crafts industry, with traditional handicrafts such as woodcarvings, pottery, and woolen textiles being highly prized.\n",
      "\n",
      "Uttarakhand is also a haven for adventure sports enthusiasts, with activities such"
     ]
    }
   ],
   "source": [
    "for chunk in stream:\n",
    "    if chunk.choices[0].delta.content is not None:\n",
    "        print(chunk.choices[0].delta.content, end=\"\")"
   ]
  },
  {
   "cell_type": "code",
   "execution_count": null,
   "metadata": {},
   "outputs": [],
   "source": []
  },
  {
   "cell_type": "markdown",
   "metadata": {},
   "source": [
    "## AWS"
   ]
  },
  {
   "cell_type": "code",
   "execution_count": 6,
   "metadata": {},
   "outputs": [],
   "source": [
    "import boto3 , json\n",
    "client = boto3.client(service_name='bedrock-runtime', region_name = 'us-east-1', aws_access_key_id = AWS_ACCESS_KEY_ID, aws_secret_access_key = AWS_SECRET_ACCESS_KEY)"
   ]
  },
  {
   "cell_type": "code",
   "execution_count": 10,
   "metadata": {},
   "outputs": [],
   "source": [
    "modelId = 'anthropic.claude-v2' \n",
    "accept = 'application/json'\n",
    "contentType = 'application/json'\n",
    "\n",
    "prompt = \"Tell me about history of uttrakhand in 20 lines.\"\n",
    "\n",
    "payload = {\n",
    "    \"anthropic_version\": \"bedrock-2023-05-31\",\n",
    "    \"max_tokens\": 512,\n",
    "    \"temperature\": 0.5,\n",
    "    \"messages\": [\n",
    "        {\n",
    "            \"role\": \"user\",\n",
    "            \"content\": [{\"type\": \"text\", \"text\": prompt}],\n",
    "        }\n",
    "    ],\n",
    "}\n",
    "\n",
    "request = json.dumps(payload)\n",
    "streaming_response = client.invoke_model_with_response_stream(modelId=modelId, body=request)"
   ]
  },
  {
   "cell_type": "code",
   "execution_count": 11,
   "metadata": {},
   "outputs": [
    {
     "data": {
      "text/plain": [
       "dict"
      ]
     },
     "execution_count": 11,
     "metadata": {},
     "output_type": "execute_result"
    }
   ],
   "source": [
    "type(streaming_response)"
   ]
  },
  {
   "cell_type": "code",
   "execution_count": 12,
   "metadata": {},
   "outputs": [
    {
     "name": "stdout",
     "output_type": "stream",
     "text": [
      "Here is a 20 line summary of the history of Uttarakhand:\n",
      "\n",
      "Uttarakhand was historically part of the Garhwal and Kumaon regions. These regions were part of various local kingdoms for centuries. In the early 19th century, the Gurkhas from Nepal invaded Garhwal and Kumaon. This led to the Anglo-Nepalese War between the British East India Company and Nepal from 1814-1816. The British defeated the Gurkhas and signed the Treaty of Sugauli in 1816, which ceded Garhwal and Kumaon to the British. \n",
      "\n",
      "Under British rule, Garhwal and Kumaon were part of the United Provinces. In the early 20th century, people from these regions started advocating for a separate Uttarakhand state. After India's independence in 1947, Uttarakhand remained part of Uttar Pradesh state. The Uttarakhand statehood movement gained momentum in the 1990s. In 2000, Uttarakhand was granted separate statehood and it officially became the 27th state of India. \n",
      "\n",
      "The new state of Uttarakhand faced challenges like underdevelopment and lack of infrastructure. But in recent years, it has focused on developing tourism, hydroelectric power, and promoting its unique culture and natural beauty. Uttarakhand continues to move forward as one of the youngest states of modern India."
     ]
    }
   ],
   "source": [
    "for event in streaming_response[\"body\"]:\n",
    "    chunk = json.loads(event[\"chunk\"][\"bytes\"])\n",
    "    if chunk[\"type\"] == \"content_block_delta\":\n",
    "        print(chunk[\"delta\"].get(\"text\", \"\"), end=\"\")"
   ]
  },
  {
   "cell_type": "code",
   "execution_count": null,
   "metadata": {},
   "outputs": [],
   "source": []
  },
  {
   "cell_type": "markdown",
   "metadata": {},
   "source": [
    "## IBM "
   ]
  },
  {
   "cell_type": "code",
   "execution_count": 13,
   "metadata": {},
   "outputs": [],
   "source": [
    "from ibm_watson_machine_learning.foundation_models import Model\n",
    "from ibm_watson_machine_learning.metanames import GenTextParamsMetaNames as GenParams"
   ]
  },
  {
   "cell_type": "code",
   "execution_count": 14,
   "metadata": {},
   "outputs": [],
   "source": [
    "WX_API_KEY = \"W-yEGbUfuHrbTBBVaCaN9E8sdPskfGptBuUMGG8QLTIu\"\n",
    "WX_PROJECT_ID = \"45c800d0-c6ba-47be-968c-6e3323256c0d\"\n",
    "IBM_CLOUD_URL = \"https://eu-de.ml.cloud.ibm.com\""
   ]
  },
  {
   "cell_type": "code",
   "execution_count": 15,
   "metadata": {},
   "outputs": [],
   "source": [
    "credentials = {\n",
    "    \"url\": IBM_CLOUD_URL,\n",
    "    \"apikey\": WX_API_KEY\n",
    "}\n",
    "\n",
    "model_id = \"mistralai/mixtral-8x7b-instruct-v01\"\n",
    "\n",
    "parameters = {\n",
    "    GenParams.DECODING_METHOD: \"greedy\",\n",
    "    GenParams.MAX_NEW_TOKENS: 500\n",
    "}\n",
    "\n",
    "system_prompt = \"\"\"[INST] <<SYS>>\n",
    "You are a helpful, respectful and honest assistant. Always answer as helpfully as possible, while being safe.  Your answers should not include any harmful, unethical, racist, sexist, toxic, dangerous, or illegal content. Please ensure that your responses are socially unbiased and positive in nature.\n",
    "If a question does not make any sense, or is not factually coherent, explain why instead of answering something not correct. If you don't know the answer to a question, please don't share false information.<</SYS>> \n",
    "{question} [/INST]\n",
    "\"\"\"\n",
    "\n",
    "model = Model(\n",
    "    model_id=model_id, \n",
    "    params=parameters, \n",
    "    credentials=credentials,\n",
    "    project_id=WX_PROJECT_ID)"
   ]
  },
  {
   "cell_type": "code",
   "execution_count": 24,
   "metadata": {},
   "outputs": [],
   "source": [
    "generated_response = model.generate_text_stream(prompt=system_prompt.format(question = \"Tell me about history of uttrakhand in 20 lines.\"))"
   ]
  },
  {
   "cell_type": "code",
   "execution_count": 25,
   "metadata": {},
   "outputs": [
    {
     "data": {
      "text/plain": [
       "generator"
      ]
     },
     "execution_count": 25,
     "metadata": {},
     "output_type": "execute_result"
    }
   ],
   "source": [
    "type(generated_response)"
   ]
  },
  {
   "cell_type": "code",
   "execution_count": 26,
   "metadata": {},
   "outputs": [
    {
     "name": "stdout",
     "output_type": "stream",
     "text": [
      "Uttarakhand, located in northern India, has a rich and diverse history. It was formed on November 9, 2000, as the 27th state of India, after a long struggle for a separate state by the people of the region. The area was once part of the ancient kingdoms of Garhwal and Kumaon. It was later ruled by the British as part of the United Provinces. During the Indian independence movement, many freedom fighters hailed from Uttarakhand. Post-independence, the region was divided between the states of Uttar Pradesh and Himachal Pradesh. The demand for a separate state gained momentum in the late 20th century, leading to its formation. Uttarakhand is known for its natural beauty, with the Himalayas running through it, and is home to several Hindu pilgrimage sites."
     ]
    }
   ],
   "source": [
    "for chunk in generated_response:\n",
    "        print(chunk, end='')"
   ]
  },
  {
   "cell_type": "code",
   "execution_count": null,
   "metadata": {},
   "outputs": [],
   "source": []
  }
 ],
 "metadata": {
  "kernelspec": {
   "display_name": "env_voice_rag",
   "language": "python",
   "name": "python3"
  },
  "language_info": {
   "codemirror_mode": {
    "name": "ipython",
    "version": 3
   },
   "file_extension": ".py",
   "mimetype": "text/x-python",
   "name": "python",
   "nbconvert_exporter": "python",
   "pygments_lexer": "ipython3",
   "version": "3.12.2"
  }
 },
 "nbformat": 4,
 "nbformat_minor": 2
}
