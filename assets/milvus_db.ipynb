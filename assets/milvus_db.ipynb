{
 "cells": [
  {
   "cell_type": "markdown",
   "metadata": {},
   "source": [
    "## IMPORT REQUIRED LIBRARIES"
   ]
  },
  {
   "cell_type": "code",
   "execution_count": 1,
   "metadata": {},
   "outputs": [
    {
     "name": "stderr",
     "output_type": "stream",
     "text": [
      "/Users/gautam/Code/WatsonX_Foundations/CHATAPP-main/env_voice_rag/lib/python3.12/site-packages/tqdm/auto.py:21: TqdmWarning: IProgress not found. Please update jupyter and ipywidgets. See https://ipywidgets.readthedocs.io/en/stable/user_install.html\n",
      "  from .autonotebook import tqdm as notebook_tqdm\n"
     ]
    }
   ],
   "source": [
    "import os\n",
    "import re\n",
    "import csv\n",
    "import json\n",
    "import time\n",
    "import numpy as np\n",
    "import pandas as pd\n",
    "from pymilvus import (connections, utility, Collection, CollectionSchema, FieldSchema, DataType)\n",
    "from langchain.docstore.document import Document\n",
    "from langchain.document_loaders import CSVLoader\n",
    "from langchain.embeddings import HuggingFaceEmbeddings, HuggingFaceInstructEmbeddings\n",
    "from langchain.vectorstores.milvus import Milvus\n",
    "import torch\n",
    "from transformers import AutoModelForSequenceClassification, AutoTokenizer"
   ]
  },
  {
   "cell_type": "markdown",
   "metadata": {},
   "source": [
    "## EXPLORING DATA"
   ]
  },
  {
   "cell_type": "code",
   "execution_count": 2,
   "metadata": {},
   "outputs": [
    {
     "data": {
      "text/html": [
       "<div>\n",
       "<style scoped>\n",
       "    .dataframe tbody tr th:only-of-type {\n",
       "        vertical-align: middle;\n",
       "    }\n",
       "\n",
       "    .dataframe tbody tr th {\n",
       "        vertical-align: top;\n",
       "    }\n",
       "\n",
       "    .dataframe thead th {\n",
       "        text-align: right;\n",
       "    }\n",
       "</style>\n",
       "<table border=\"1\" class=\"dataframe\">\n",
       "  <thead>\n",
       "    <tr style=\"text-align: right;\">\n",
       "      <th></th>\n",
       "      <th>Doc Identifier</th>\n",
       "      <th>Level 1</th>\n",
       "      <th>Assignee</th>\n",
       "      <th>Inventor</th>\n",
       "      <th>Title</th>\n",
       "      <th>Abstract</th>\n",
       "      <th>First Claim</th>\n",
       "    </tr>\n",
       "  </thead>\n",
       "  <tbody>\n",
       "    <tr>\n",
       "      <th>0</th>\n",
       "      <td>CN114954187B</td>\n",
       "      <td>Patent Set</td>\n",
       "      <td>Ningbo Congyue Electronic Equipment Co ltd</td>\n",
       "      <td>黄韬</td>\n",
       "      <td>Vehicle-mounted cup stand and combined vehicle...</td>\n",
       "      <td>The invention discloses a vehicle-mounted cup ...</td>\n",
       "      <td>1. The vehicle-mounted cup stand is characteri...</td>\n",
       "    </tr>\n",
       "    <tr>\n",
       "      <th>1</th>\n",
       "      <td>CN116022087A</td>\n",
       "      <td>Patent Set</td>\n",
       "      <td>Faurecia Interieur Industrie SAS</td>\n",
       "      <td>皮埃尔·莱格朗德 , 金-劳伊斯·托雷西拉斯</td>\n",
       "      <td>Vehicle ornament and production process of same</td>\n",
       "      <td>The invention relates to a vehicle ornament (2...</td>\n",
       "      <td>1. A vehicle trim piece (2), the trim piece co...</td>\n",
       "    </tr>\n",
       "    <tr>\n",
       "      <th>2</th>\n",
       "      <td>CA3137179A1</td>\n",
       "      <td>Patent Set</td>\n",
       "      <td>Manac Inc</td>\n",
       "      <td>Guy Veilleux , Guillaume Samson</td>\n",
       "      <td>Light-weight beam assembly and truck trailer u...</td>\n",
       "      <td>Light-weight beam assembly and truck trailer u...</td>\n",
       "      <td>1. A light-weight truck trailer comprising:two...</td>\n",
       "    </tr>\n",
       "    <tr>\n",
       "      <th>3</th>\n",
       "      <td>CN112172932B</td>\n",
       "      <td>Patent Set</td>\n",
       "      <td>Toyota Motor Corp</td>\n",
       "      <td>各务绫加 , 村田宗志朗 , 神野光雄 , 松井初美</td>\n",
       "      <td>Vehicle body lower structure</td>\n",
       "      <td>The vehicle body lower structure of the presen...</td>\n",
       "      <td>1. A vehicle body lower structure characterize...</td>\n",
       "    </tr>\n",
       "    <tr>\n",
       "      <th>4</th>\n",
       "      <td>CN114901231B</td>\n",
       "      <td>Patent Set</td>\n",
       "      <td>Mazda Motor Corp</td>\n",
       "      <td>佐佐木刚史 , 高安宏明 , 德田大辅 , 栗栖邦彦 , 斋藤浩章 , 梅津贵则</td>\n",
       "      <td>Vehicle get-on/off auxiliary device</td>\n",
       "      <td>Provided is a vehicle entrance/exit assist dev...</td>\n",
       "      <td>1. An entry/exit support device for a vehicle,...</td>\n",
       "    </tr>\n",
       "  </tbody>\n",
       "</table>\n",
       "</div>"
      ],
      "text/plain": [
       "  Doc Identifier     Level 1                                    Assignee  \\\n",
       "0   CN114954187B  Patent Set  Ningbo Congyue Electronic Equipment Co ltd   \n",
       "1   CN116022087A  Patent Set            Faurecia Interieur Industrie SAS   \n",
       "2    CA3137179A1  Patent Set                                   Manac Inc   \n",
       "3   CN112172932B  Patent Set                           Toyota Motor Corp   \n",
       "4   CN114901231B  Patent Set                            Mazda Motor Corp   \n",
       "\n",
       "                                   Inventor  \\\n",
       "0                                        黄韬   \n",
       "1                    皮埃尔·莱格朗德 , 金-劳伊斯·托雷西拉斯   \n",
       "2           Guy Veilleux , Guillaume Samson   \n",
       "3                各务绫加 , 村田宗志朗 , 神野光雄 , 松井初美   \n",
       "4  佐佐木刚史 , 高安宏明 , 德田大辅 , 栗栖邦彦 , 斋藤浩章 , 梅津贵则   \n",
       "\n",
       "                                               Title  \\\n",
       "0  Vehicle-mounted cup stand and combined vehicle...   \n",
       "1    Vehicle ornament and production process of same   \n",
       "2  Light-weight beam assembly and truck trailer u...   \n",
       "3                       Vehicle body lower structure   \n",
       "4                Vehicle get-on/off auxiliary device   \n",
       "\n",
       "                                            Abstract  \\\n",
       "0  The invention discloses a vehicle-mounted cup ...   \n",
       "1  The invention relates to a vehicle ornament (2...   \n",
       "2  Light-weight beam assembly and truck trailer u...   \n",
       "3  The vehicle body lower structure of the presen...   \n",
       "4  Provided is a vehicle entrance/exit assist dev...   \n",
       "\n",
       "                                         First Claim  \n",
       "0  1. The vehicle-mounted cup stand is characteri...  \n",
       "1  1. A vehicle trim piece (2), the trim piece co...  \n",
       "2  1. A light-weight truck trailer comprising:two...  \n",
       "3  1. A vehicle body lower structure characterize...  \n",
       "4  1. An entry/exit support device for a vehicle,...  "
      ]
     },
     "execution_count": 2,
     "metadata": {},
     "output_type": "execute_result"
    }
   ],
   "source": [
    "df = pd.read_excel(\"Automotive_Industry_Scraped_2022-24.xlsx\")\n",
    "df.head(5)"
   ]
  },
  {
   "cell_type": "code",
   "execution_count": 3,
   "metadata": {},
   "outputs": [
    {
     "data": {
      "text/plain": [
       "(2742, 7)"
      ]
     },
     "execution_count": 3,
     "metadata": {},
     "output_type": "execute_result"
    }
   ],
   "source": [
    "df.shape"
   ]
  },
  {
   "cell_type": "code",
   "execution_count": 4,
   "metadata": {},
   "outputs": [
    {
     "data": {
      "text/plain": [
       "Index(['Doc Identifier', 'Level 1', 'Assignee', 'Inventor', 'Title',\n",
       "       'Abstract', 'First Claim'],\n",
       "      dtype='object')"
      ]
     },
     "execution_count": 4,
     "metadata": {},
     "output_type": "execute_result"
    }
   ],
   "source": [
    "df.columns"
   ]
  },
  {
   "cell_type": "code",
   "execution_count": 5,
   "metadata": {},
   "outputs": [
    {
     "name": "stdout",
     "output_type": "stream",
     "text": [
      "<class 'pandas.core.frame.DataFrame'>\n",
      "RangeIndex: 2742 entries, 0 to 2741\n",
      "Data columns (total 7 columns):\n",
      " #   Column          Non-Null Count  Dtype \n",
      "---  ------          --------------  ----- \n",
      " 0   Doc Identifier  2742 non-null   object\n",
      " 1   Level 1         2742 non-null   object\n",
      " 2   Assignee        2482 non-null   object\n",
      " 3   Inventor        2484 non-null   object\n",
      " 4   Title           2484 non-null   object\n",
      " 5   Abstract        2742 non-null   object\n",
      " 6   First Claim     2740 non-null   object\n",
      "dtypes: object(7)\n",
      "memory usage: 150.1+ KB\n"
     ]
    }
   ],
   "source": [
    "df.info()"
   ]
  },
  {
   "cell_type": "code",
   "execution_count": 6,
   "metadata": {},
   "outputs": [],
   "source": [
    "df.rename(columns = {\"Doc Identifier\": \"Doc_Identifier\", \"Level 1\": \"Level\", \"First Claim\": \"First_Claim\"}, inplace=True)"
   ]
  },
  {
   "cell_type": "code",
   "execution_count": 7,
   "metadata": {},
   "outputs": [
    {
     "data": {
      "text/plain": [
       "Doc_Identifier      0\n",
       "Level               0\n",
       "Assignee          260\n",
       "Inventor          258\n",
       "Title             258\n",
       "Abstract            0\n",
       "First_Claim         2\n",
       "dtype: int64"
      ]
     },
     "execution_count": 7,
     "metadata": {},
     "output_type": "execute_result"
    }
   ],
   "source": [
    "df.isnull().sum()"
   ]
  },
  {
   "cell_type": "code",
   "execution_count": 8,
   "metadata": {},
   "outputs": [
    {
     "name": "stdout",
     "output_type": "stream",
     "text": [
      "Shape (2481, 7)\n",
      "Doc_Identifier    0\n",
      "Level             0\n",
      "Assignee          0\n",
      "Inventor          0\n",
      "Title             0\n",
      "Abstract          0\n",
      "First_Claim       0\n",
      "dtype: int64\n"
     ]
    }
   ],
   "source": [
    "df.dropna(inplace=True)\n",
    "\n",
    "print(\"Shape\", df.shape)\n",
    "print(df.isnull().sum())"
   ]
  },
  {
   "cell_type": "code",
   "execution_count": 9,
   "metadata": {},
   "outputs": [],
   "source": [
    "df[\"Patent_Text\"] = df.apply(lambda x: \"Title: \"+x[\"Title\"]+\"\\nAbstract: \"+x[\"Abstract\"], axis=1)"
   ]
  },
  {
   "cell_type": "code",
   "execution_count": 11,
   "metadata": {},
   "outputs": [],
   "source": [
    "df.to_csv(\"cleaned_data.csv\", index = False)"
   ]
  },
  {
   "cell_type": "code",
   "execution_count": 12,
   "metadata": {},
   "outputs": [],
   "source": [
    "records = df.to_dict(orient='records')"
   ]
  },
  {
   "cell_type": "code",
   "execution_count": 13,
   "metadata": {},
   "outputs": [
    {
     "data": {
      "text/plain": [
       "{'Doc_Identifier': 'CN114954187B',\n",
       " 'Level': 'Patent Set',\n",
       " 'Assignee': 'Ningbo Congyue Electronic Equipment Co ltd',\n",
       " 'Inventor': '黄韬',\n",
       " 'Title': 'Vehicle-mounted cup stand and combined vehicle-mounted appliance comprising same',\n",
       " 'Abstract': 'The invention discloses a vehicle-mounted cup stand and a combined vehicle-mounted appliance containing the same, wherein the combined vehicle-mounted appliance comprises a cup stand shell, a cup stand foot support and a knob component are sequentially arranged in the cup stand shell from bottom to top, and the opening and the retraction of the cup stand foot support are adjusted under the action of the knob component; the knob component comprises a knob lower shell, a knob upper shell, a knob cover plate and a knob mechanism, wherein the knob upper shell is positioned above the knob lower shell, the knob mechanism is installed on the knob upper shell, and the knob cover plate is installed on the inner side wall of the cup stand shell and is in contact with the knob mechanism. According to the vehicle-mounted cup stand, the first saw teeth and the second saw teeth are ingeniously arranged, so that a rotary self-locking structure with a button in the cup stand is realized, a user can determine the placement direction of the cup stand more conveniently, the cup stand can be locked, the cup stand can not loosen even under severe environments such as long-time bumping and high temperature in a vehicle, and the vehicle-mounted cup stand is durable in use and good in economical efficiency.',\n",
       " 'First_Claim': '1. The vehicle-mounted cup stand is characterized by comprising a cup stand shell (1), wherein a cup stand foot support (3) and a knob component (2) are sequentially arranged in the cup stand shell (1) from bottom to top, and the opening and the retraction of the cup stand foot support (3) are adjusted under the action of the knob component (2);the knob component (2) comprises a knob lower shell (22), a knob upper shell (21) positioned above the knob lower shell (22), a knob cover plate (23) and a knob mechanism (24), the knob mechanism (24) is installed on the knob upper shell (21), and the knob cover plate (23) is installed on the inner side wall of the cup holder shell (1) and is in contact with the knob mechanism (24);the knob upper shell (21) comprises a first screw hole (211), a first mounting groove (212) and a track (213), wherein the first screw hole (211) is arranged corresponding to a second screw hole (222) on the knob lower shell (22) and is used for connecting the knob upper shell (21) with the knob lower shell (22); the knob mechanism (24) is arranged in the first mounting groove (212);the lower knob shell (22) further comprises rotary protrusions (221) arranged on the lower surface of the lower knob shell (22), the number of the rotary protrusions (221) is the same as that of the cup stand foot supports (3), and the rotary protrusions (221) act on channels (32) on the cup stand foot supports (3) and are used for controlling the movement of the cup stand foot supports (3);the knob cover plate (23) comprises first saw teeth (231) and a third screw hole (232), and the first saw teeth (231) are positioned on the inner side wall of the knob cover plate (23); the third screw hole (232) is arranged corresponding to a fourth screw hole (14) on the cup stand shell (1);the knob mechanism (24) comprises a rotary button (241), a spring (242), a gear (243), a rack (244), a second sawtooth (245) and a mounting cavity (246); the gear (243) and the rack (244) are arranged correspondingly and are respectively located in the middle of the knob mechanism (24), the number of the rotary buttons (241) is two and are respectively located on one side of the gear (243), the spring (242) is installed in the installation cavity (246), one end of the spring (242) is in contact with a rib plate (214) on the knob upper shell (21), and the other end of the spring (242) is in contact with the installation cavity (246); the second saw teeth (245) are positioned at two ends of the knob mechanism (24), and the second saw teeth (245) are arranged corresponding to the first saw teeth (231); the second saw-tooth (245) slides on the track (213) in both directions.',\n",
       " 'Patent_Text': 'Title: Vehicle-mounted cup stand and combined vehicle-mounted appliance comprising same\\nAbstract: The invention discloses a vehicle-mounted cup stand and a combined vehicle-mounted appliance containing the same, wherein the combined vehicle-mounted appliance comprises a cup stand shell, a cup stand foot support and a knob component are sequentially arranged in the cup stand shell from bottom to top, and the opening and the retraction of the cup stand foot support are adjusted under the action of the knob component; the knob component comprises a knob lower shell, a knob upper shell, a knob cover plate and a knob mechanism, wherein the knob upper shell is positioned above the knob lower shell, the knob mechanism is installed on the knob upper shell, and the knob cover plate is installed on the inner side wall of the cup stand shell and is in contact with the knob mechanism. According to the vehicle-mounted cup stand, the first saw teeth and the second saw teeth are ingeniously arranged, so that a rotary self-locking structure with a button in the cup stand is realized, a user can determine the placement direction of the cup stand more conveniently, the cup stand can be locked, the cup stand can not loosen even under severe environments such as long-time bumping and high temperature in a vehicle, and the vehicle-mounted cup stand is durable in use and good in economical efficiency.'}"
      ]
     },
     "execution_count": 13,
     "metadata": {},
     "output_type": "execute_result"
    }
   ],
   "source": [
    "records[0]"
   ]
  },
  {
   "cell_type": "code",
   "execution_count": null,
   "metadata": {},
   "outputs": [],
   "source": []
  },
  {
   "cell_type": "markdown",
   "metadata": {},
   "source": [
    "## CREATA DOCUMENTS"
   ]
  },
  {
   "cell_type": "code",
   "execution_count": 14,
   "metadata": {},
   "outputs": [
    {
     "data": {
      "text/plain": [
       "2481"
      ]
     },
     "execution_count": 14,
     "metadata": {},
     "output_type": "execute_result"
    }
   ],
   "source": [
    "metadata_cols = df.columns.to_list()\n",
    "metadata_cols.remove(\"Patent_Text\")\n",
    "\n",
    "loader = CSVLoader(\"./cleaned_data.csv\", metadata_columns = metadata_cols)\n",
    "documents = loader.load()\n",
    "len(documents)"
   ]
  },
  {
   "cell_type": "code",
   "execution_count": 15,
   "metadata": {},
   "outputs": [
    {
     "data": {
      "text/plain": [
       "Document(page_content='Patent_Text: Title: Vehicle-mounted cup stand and combined vehicle-mounted appliance comprising same\\nAbstract: The invention discloses a vehicle-mounted cup stand and a combined vehicle-mounted appliance containing the same, wherein the combined vehicle-mounted appliance comprises a cup stand shell, a cup stand foot support and a knob component are sequentially arranged in the cup stand shell from bottom to top, and the opening and the retraction of the cup stand foot support are adjusted under the action of the knob component; the knob component comprises a knob lower shell, a knob upper shell, a knob cover plate and a knob mechanism, wherein the knob upper shell is positioned above the knob lower shell, the knob mechanism is installed on the knob upper shell, and the knob cover plate is installed on the inner side wall of the cup stand shell and is in contact with the knob mechanism. According to the vehicle-mounted cup stand, the first saw teeth and the second saw teeth are ingeniously arranged, so that a rotary self-locking structure with a button in the cup stand is realized, a user can determine the placement direction of the cup stand more conveniently, the cup stand can be locked, the cup stand can not loosen even under severe environments such as long-time bumping and high temperature in a vehicle, and the vehicle-mounted cup stand is durable in use and good in economical efficiency.', metadata={'source': './cleaned_data.csv', 'row': 0, 'Doc_Identifier': 'CN114954187B', 'Level': 'Patent Set', 'Assignee': 'Ningbo Congyue Electronic Equipment Co ltd', 'Inventor': '黄韬', 'Title': 'Vehicle-mounted cup stand and combined vehicle-mounted appliance comprising same', 'Abstract': 'The invention discloses a vehicle-mounted cup stand and a combined vehicle-mounted appliance containing the same, wherein the combined vehicle-mounted appliance comprises a cup stand shell, a cup stand foot support and a knob component are sequentially arranged in the cup stand shell from bottom to top, and the opening and the retraction of the cup stand foot support are adjusted under the action of the knob component; the knob component comprises a knob lower shell, a knob upper shell, a knob cover plate and a knob mechanism, wherein the knob upper shell is positioned above the knob lower shell, the knob mechanism is installed on the knob upper shell, and the knob cover plate is installed on the inner side wall of the cup stand shell and is in contact with the knob mechanism. According to the vehicle-mounted cup stand, the first saw teeth and the second saw teeth are ingeniously arranged, so that a rotary self-locking structure with a button in the cup stand is realized, a user can determine the placement direction of the cup stand more conveniently, the cup stand can be locked, the cup stand can not loosen even under severe environments such as long-time bumping and high temperature in a vehicle, and the vehicle-mounted cup stand is durable in use and good in economical efficiency.', 'First_Claim': '1. The vehicle-mounted cup stand is characterized by comprising a cup stand shell (1), wherein a cup stand foot support (3) and a knob component (2) are sequentially arranged in the cup stand shell (1) from bottom to top, and the opening and the retraction of the cup stand foot support (3) are adjusted under the action of the knob component (2);the knob component (2) comprises a knob lower shell (22), a knob upper shell (21) positioned above the knob lower shell (22), a knob cover plate (23) and a knob mechanism (24), the knob mechanism (24) is installed on the knob upper shell (21), and the knob cover plate (23) is installed on the inner side wall of the cup holder shell (1) and is in contact with the knob mechanism (24);the knob upper shell (21) comprises a first screw hole (211), a first mounting groove (212) and a track (213), wherein the first screw hole (211) is arranged corresponding to a second screw hole (222) on the knob lower shell (22) and is used for connecting the knob upper shell (21) with the knob lower shell (22); the knob mechanism (24) is arranged in the first mounting groove (212);the lower knob shell (22) further comprises rotary protrusions (221) arranged on the lower surface of the lower knob shell (22), the number of the rotary protrusions (221) is the same as that of the cup stand foot supports (3), and the rotary protrusions (221) act on channels (32) on the cup stand foot supports (3) and are used for controlling the movement of the cup stand foot supports (3);the knob cover plate (23) comprises first saw teeth (231) and a third screw hole (232), and the first saw teeth (231) are positioned on the inner side wall of the knob cover plate (23); the third screw hole (232) is arranged corresponding to a fourth screw hole (14) on the cup stand shell (1);the knob mechanism (24) comprises a rotary button (241), a spring (242), a gear (243), a rack (244), a second sawtooth (245) and a mounting cavity (246); the gear (243) and the rack (244) are arranged correspondingly and are respectively located in the middle of the knob mechanism (24), the number of the rotary buttons (241) is two and are respectively located on one side of the gear (243), the spring (242) is installed in the installation cavity (246), one end of the spring (242) is in contact with a rib plate (214) on the knob upper shell (21), and the other end of the spring (242) is in contact with the installation cavity (246); the second saw teeth (245) are positioned at two ends of the knob mechanism (24), and the second saw teeth (245) are arranged corresponding to the first saw teeth (231); the second saw-tooth (245) slides on the track (213) in both directions.'})"
      ]
     },
     "execution_count": 15,
     "metadata": {},
     "output_type": "execute_result"
    }
   ],
   "source": [
    "documents[0]"
   ]
  },
  {
   "cell_type": "code",
   "execution_count": 18,
   "metadata": {},
   "outputs": [
    {
     "name": "stdout",
     "output_type": "stream",
     "text": [
      "Patent_Text: Title: Vehicle-mounted cup stand and combined vehicle-mounted appliance comprising same\n",
      "Abstract: The invention discloses a vehicle-mounted cup stand and a combined vehicle-mounted appliance containing the same, wherein the combined vehicle-mounted appliance comprises a cup stand shell, a cup stand foot support and a knob component are sequentially arranged in the cup stand shell from bottom to top, and the opening and the retraction of the cup stand foot support are adjusted under the action of the knob component; the knob component comprises a knob lower shell, a knob upper shell, a knob cover plate and a knob mechanism, wherein the knob upper shell is positioned above the knob lower shell, the knob mechanism is installed on the knob upper shell, and the knob cover plate is installed on the inner side wall of the cup stand shell and is in contact with the knob mechanism. According to the vehicle-mounted cup stand, the first saw teeth and the second saw teeth are ingeniously arranged, so that a rotary self-locking structure with a button in the cup stand is realized, a user can determine the placement direction of the cup stand more conveniently, the cup stand can be locked, the cup stand can not loosen even under severe environments such as long-time bumping and high temperature in a vehicle, and the vehicle-mounted cup stand is durable in use and good in economical efficiency.\n"
     ]
    }
   ],
   "source": [
    "print(documents[0].page_content)"
   ]
  },
  {
   "cell_type": "code",
   "execution_count": 19,
   "metadata": {},
   "outputs": [
    {
     "data": {
      "text/plain": [
       "{'source': './cleaned_data.csv',\n",
       " 'row': 0,\n",
       " 'Doc_Identifier': 'CN114954187B',\n",
       " 'Level': 'Patent Set',\n",
       " 'Assignee': 'Ningbo Congyue Electronic Equipment Co ltd',\n",
       " 'Inventor': '黄韬',\n",
       " 'Title': 'Vehicle-mounted cup stand and combined vehicle-mounted appliance comprising same',\n",
       " 'Abstract': 'The invention discloses a vehicle-mounted cup stand and a combined vehicle-mounted appliance containing the same, wherein the combined vehicle-mounted appliance comprises a cup stand shell, a cup stand foot support and a knob component are sequentially arranged in the cup stand shell from bottom to top, and the opening and the retraction of the cup stand foot support are adjusted under the action of the knob component; the knob component comprises a knob lower shell, a knob upper shell, a knob cover plate and a knob mechanism, wherein the knob upper shell is positioned above the knob lower shell, the knob mechanism is installed on the knob upper shell, and the knob cover plate is installed on the inner side wall of the cup stand shell and is in contact with the knob mechanism. According to the vehicle-mounted cup stand, the first saw teeth and the second saw teeth are ingeniously arranged, so that a rotary self-locking structure with a button in the cup stand is realized, a user can determine the placement direction of the cup stand more conveniently, the cup stand can be locked, the cup stand can not loosen even under severe environments such as long-time bumping and high temperature in a vehicle, and the vehicle-mounted cup stand is durable in use and good in economical efficiency.',\n",
       " 'First_Claim': '1. The vehicle-mounted cup stand is characterized by comprising a cup stand shell (1), wherein a cup stand foot support (3) and a knob component (2) are sequentially arranged in the cup stand shell (1) from bottom to top, and the opening and the retraction of the cup stand foot support (3) are adjusted under the action of the knob component (2);the knob component (2) comprises a knob lower shell (22), a knob upper shell (21) positioned above the knob lower shell (22), a knob cover plate (23) and a knob mechanism (24), the knob mechanism (24) is installed on the knob upper shell (21), and the knob cover plate (23) is installed on the inner side wall of the cup holder shell (1) and is in contact with the knob mechanism (24);the knob upper shell (21) comprises a first screw hole (211), a first mounting groove (212) and a track (213), wherein the first screw hole (211) is arranged corresponding to a second screw hole (222) on the knob lower shell (22) and is used for connecting the knob upper shell (21) with the knob lower shell (22); the knob mechanism (24) is arranged in the first mounting groove (212);the lower knob shell (22) further comprises rotary protrusions (221) arranged on the lower surface of the lower knob shell (22), the number of the rotary protrusions (221) is the same as that of the cup stand foot supports (3), and the rotary protrusions (221) act on channels (32) on the cup stand foot supports (3) and are used for controlling the movement of the cup stand foot supports (3);the knob cover plate (23) comprises first saw teeth (231) and a third screw hole (232), and the first saw teeth (231) are positioned on the inner side wall of the knob cover plate (23); the third screw hole (232) is arranged corresponding to a fourth screw hole (14) on the cup stand shell (1);the knob mechanism (24) comprises a rotary button (241), a spring (242), a gear (243), a rack (244), a second sawtooth (245) and a mounting cavity (246); the gear (243) and the rack (244) are arranged correspondingly and are respectively located in the middle of the knob mechanism (24), the number of the rotary buttons (241) is two and are respectively located on one side of the gear (243), the spring (242) is installed in the installation cavity (246), one end of the spring (242) is in contact with a rib plate (214) on the knob upper shell (21), and the other end of the spring (242) is in contact with the installation cavity (246); the second saw teeth (245) are positioned at two ends of the knob mechanism (24), and the second saw teeth (245) are arranged corresponding to the first saw teeth (231); the second saw-tooth (245) slides on the track (213) in both directions.'}"
      ]
     },
     "execution_count": 19,
     "metadata": {},
     "output_type": "execute_result"
    }
   ],
   "source": [
    "documents[0].metadata"
   ]
  },
  {
   "cell_type": "code",
   "execution_count": null,
   "metadata": {},
   "outputs": [],
   "source": []
  },
  {
   "cell_type": "markdown",
   "metadata": {},
   "source": [
    "## EMBEDDING MODEL"
   ]
  },
  {
   "cell_type": "code",
   "execution_count": 2,
   "metadata": {},
   "outputs": [
    {
     "name": "stderr",
     "output_type": "stream",
     "text": [
      "/Users/gautam/Code/WatsonX_Foundations/CHATAPP-main/env_voice_rag/lib/python3.12/site-packages/langchain_core/_api/deprecation.py:119: LangChainDeprecationWarning: The class `HuggingFaceEmbeddings` was deprecated in LangChain 0.2.2 and will be removed in 0.3.0. An updated version of the class exists in the langchain-huggingface package and should be used instead. To use it run `pip install -U langchain-huggingface` and import as `from langchain_huggingface import HuggingFaceEmbeddings`.\n",
      "  warn_deprecated(\n",
      "/Users/gautam/Code/WatsonX_Foundations/CHATAPP-main/env_voice_rag/lib/python3.12/site-packages/huggingface_hub/file_download.py:1132: FutureWarning: `resume_download` is deprecated and will be removed in version 1.0.0. Downloads always resume when possible. If you want to force a new download, use `force_download=True`.\n",
      "  warnings.warn(\n"
     ]
    }
   ],
   "source": [
    "embeddings_minilm = HuggingFaceEmbeddings(\n",
    "    model_name=\"sentence-transformers/all-MiniLM-L6-v2\"\n",
    ")"
   ]
  },
  {
   "cell_type": "code",
   "execution_count": null,
   "metadata": {},
   "outputs": [],
   "source": []
  },
  {
   "cell_type": "markdown",
   "metadata": {},
   "source": [
    "## MILVUS"
   ]
  },
  {
   "cell_type": "code",
   "execution_count": 3,
   "metadata": {},
   "outputs": [],
   "source": [
    "_HOST = \"localhost\"\n",
    "_PORT = \"19530\"\n",
    "\n",
    "\n",
    "def create_milvus_client():\n",
    "    try:\n",
    "        connection_args = {\n",
    "            \"host\": _HOST,\n",
    "            \"port\": _PORT\n",
    "        }\n",
    "        connections.connect(**connection_args)\n",
    "        print(\"Successfully created Milvus Client\")\n",
    "        \n",
    "    except Exception as e:\n",
    "        print(f\"Failed to create Milvus client: {e}\")\n",
    "        return False, {}\n",
    "    return True, connection_args\n",
    "\n",
    "\n",
    "def list_milvus_collections():\n",
    "    collection_names = utility.list_collections()\n",
    "    return collection_names\n",
    "\n",
    "\n",
    "def check_milvus_collection(collection_name):\n",
    "    collection_exists = utility.has_collection(collection_name)\n",
    "    print(f\"Does collection {collection_name} exist in Milvus: {collection_exists}\")\n",
    "\n",
    "\n",
    "def drop_milvus_collection(collection_name):\n",
    "    try:\n",
    "        utility.drop_collection(collection_name)\n",
    "        print(f\"Collection named - {collection_name} dropped from Milvus\")\n",
    "    except Exception as e:\n",
    "        print(\"An error occured:\", str(e))"
   ]
  },
  {
   "cell_type": "code",
   "execution_count": 4,
   "metadata": {},
   "outputs": [
    {
     "name": "stdout",
     "output_type": "stream",
     "text": [
      "Successfully created Milvus Client\n"
     ]
    }
   ],
   "source": [
    "_, connection_args = create_milvus_client()"
   ]
  },
  {
   "cell_type": "code",
   "execution_count": 5,
   "metadata": {},
   "outputs": [
    {
     "name": "stdout",
     "output_type": "stream",
     "text": [
      "List of collections: ['Demo_Index_V1']\n"
     ]
    }
   ],
   "source": [
    "# List all Milvus Collections\n",
    "milvus_collections = list_milvus_collections()\n",
    "print(\"List of collections:\", milvus_collections)"
   ]
  },
  {
   "cell_type": "code",
   "execution_count": 25,
   "metadata": {},
   "outputs": [],
   "source": [
    "INDEX_NAME = \"Demo_Index_V1\""
   ]
  },
  {
   "cell_type": "code",
   "execution_count": 26,
   "metadata": {},
   "outputs": [
    {
     "name": "stdout",
     "output_type": "stream",
     "text": [
      "Milvus collection created successfully\n"
     ]
    }
   ],
   "source": [
    "# Return VectorStore initialized from documents and embeddings\n",
    "\n",
    "Milvus.from_documents(\n",
    "    documents,\n",
    "    embeddings_minilm,\n",
    "    connection_args = connection_args,\n",
    "    collection_name = INDEX_NAME\n",
    ")\n",
    "print(\"Milvus collection created successfully\")"
   ]
  },
  {
   "cell_type": "code",
   "execution_count": 26,
   "metadata": {},
   "outputs": [
    {
     "name": "stdout",
     "output_type": "stream",
     "text": [
      "Does collection Demo_Index_V1 exist in Milvus: True\n"
     ]
    }
   ],
   "source": [
    "# Check for created Collection\n",
    "check_milvus_collection(INDEX_NAME)"
   ]
  },
  {
   "cell_type": "code",
   "execution_count": null,
   "metadata": {},
   "outputs": [],
   "source": []
  },
  {
   "cell_type": "markdown",
   "metadata": {},
   "source": [
    "## SEARCHING"
   ]
  },
  {
   "cell_type": "code",
   "execution_count": 33,
   "metadata": {},
   "outputs": [],
   "source": [
    "def dict_to_tuple(d):\n",
    "    if isinstance(d, dict):\n",
    "        return tuple((k, dict_to_tuple(v)) for k, v in d.items())\n",
    "    else:\n",
    "        return d"
   ]
  },
  {
   "cell_type": "code",
   "execution_count": 34,
   "metadata": {},
   "outputs": [],
   "source": [
    "query = \"Tell me about Vehicle body lower structure\""
   ]
  },
  {
   "cell_type": "code",
   "execution_count": 35,
   "metadata": {},
   "outputs": [
    {
     "name": "stderr",
     "output_type": "stream",
     "text": [
      "/Users/gautam/Code/WatsonX_Foundations/CHATAPP-main/env_voice_rag/lib/python3.12/site-packages/langchain_core/_api/deprecation.py:119: LangChainDeprecationWarning: The class `Milvus` was deprecated in LangChain 0.2.0 and will be removed in 0.3.0. An updated version of the class exists in the langchain-milvus package and should be used instead. To use it run `pip install -U langchain-milvus` and import as `from langchain_milvus import MilvusVectorStore`.\n",
      "  warn_deprecated(\n"
     ]
    },
    {
     "data": {
      "text/plain": [
       "[Document(page_content='Patent_Text: Title: Vehicle body lower structure\\nAbstract: A vehicle body lower structure may include: a hollow rocker arranged at a lower lateral part of a vehicle body and extending along a front-rear direction of the vehicle body; a power source arranged adjacent to the rocker; an energy absorbing member connected to the power source and arranged under the rocker; and a collar arranged between the rocker and the energy absorbing member. The rocker may be provided with a flange extending downward from a bottom plate of the rocker. A height of the collar above the energy absorbing member may be greater than a height of the flange.', metadata={'source': './cleaned_data.csv', 'row': 2027, 'Doc_Identifier': 'US11485415B2', 'Level': 'Patent Set', 'Assignee': 'Subaru Corp , Toyota Motor Corp', 'Inventor': 'Naoki Takahashi , Shunji Shibata', 'Title': 'Vehicle body lower structure', 'Abstract': 'A vehicle body lower structure may include: a hollow rocker arranged at a lower lateral part of a vehicle body and extending along a front-rear direction of the vehicle body; a power source arranged adjacent to the rocker; an energy absorbing member connected to the power source and arranged under the rocker; and a collar arranged between the rocker and the energy absorbing member. The rocker may be provided with a flange extending downward from a bottom plate of the rocker. A height of the collar above the energy absorbing member may be greater than a height of the flange.', 'First_Claim': '1. A vehicle body lower structure, comprising:a hollow rocker arranged at a lower lateral part of a vehicle body and extending along a front-rear direction of the vehicle body;a power source arranged adjacent to the rocker;an energy absorbing member connected to the power source and arranged under the rocker; anda collar arranged between the rocker and the energy absorbing member,whereinthe rocker is provided with a flange extending downward from a bottom plate of the rocker, anda height of the collar above the energy absorbing member is greater than a height of the flange.', 'pk': 450347497853844698}),\n",
       " Document(page_content='Patent_Text: Title: Vehicle body lower structure\\nAbstract: The disclosure provides a vehicle body lower structure. The vehicle body lower structure includes: a deflector, disposed on a vehicle body and movable between a stowed position covering a lower part of the vehicle body and a deployed position protruding downward; and a shaft member, extending in a vehicle left-right direction and rotatably connecting a front end of the deflector to the vehicle body. The deflector is maintained in the deployed position protruding downward by its own weight, and receiving an impact load from below, the deflector moves from the deployed position to the stowed position.', metadata={'source': './cleaned_data.csv', 'row': 547, 'Doc_Identifier': 'US20230166801A1', 'Level': 'Patent Set', 'Assignee': 'Honda Motor Co Ltd', 'Inventor': 'Kenichi Ando , Kei Ambo , Yuki Nakamura , Yoshiteru HOSHIDA', 'Title': 'Vehicle body lower structure', 'Abstract': 'The disclosure provides a vehicle body lower structure. The vehicle body lower structure includes: a deflector, disposed on a vehicle body and movable between a stowed position covering a lower part of the vehicle body and a deployed position protruding downward; and a shaft member, extending in a vehicle left-right direction and rotatably connecting a front end of the deflector to the vehicle body. The deflector is maintained in the deployed position protruding downward by its own weight, and receiving an impact load from below, the deflector moves from the deployed position to the stowed position.', 'First_Claim': '1. A vehicle body lower structure, comprising:a deflector, disposed on a vehicle body of a vehicle and movable between a stowed position covering a lower part of the vehicle body and a deployed position protruding downward; and a shaft member, extending in a vehicle left-right direction and rotatably connecting a front end of the deflector to the vehicle body, wherein the deflector is maintained in the deployed position protruding downward by its own weight, and when receiving an impact load from below, the deflector moves from the deployed position to the stowed position.', 'pk': 450347497853843216}),\n",
       " Document(page_content='Patent_Text: Title: Vehicle body structure\\nAbstract: A vehicle body structure includes a roof structure and a lateral side structure, wherein the roof structure includes a roof panel fastened to an underlying roof reinforcement frame, wherein the lateral side structure includes a side panel fastened to an underlying side support structure, wherein a lateral side of the roof panel is fastened to the roof reinforcement frame by means of a hemming joint that is formed by folding a lateral side of the roof panel around an edge of the roof reinforcement frame, and wherein a folded side edge of the roof panel is fastened to the side panel by means of an elongated laser brazing joint.', metadata={'source': './cleaned_data.csv', 'row': 1783, 'Doc_Identifier': 'US11377154B2', 'Level': 'Patent Set', 'Assignee': 'Ningbo Geely Automobile Research and Development Co Ltd', 'Inventor': 'Biquan WU', 'Title': 'Vehicle body structure', 'Abstract': 'A vehicle body structure includes a roof structure and a lateral side structure, wherein the roof structure includes a roof panel fastened to an underlying roof reinforcement frame, wherein the lateral side structure includes a side panel fastened to an underlying side support structure, wherein a lateral side of the roof panel is fastened to the roof reinforcement frame by means of a hemming joint that is formed by folding a lateral side of the roof panel around an edge of the roof reinforcement frame, and wherein a folded side edge of the roof panel is fastened to the side panel by means of an elongated laser brazing joint.', 'First_Claim': '1. A vehicle body structure comprising a roof structure and a lateral side structure, wherein the roof structure comprises a roof panel fastened to an underlying roof reinforcement frame, wherein the lateral side structure comprises a side panel fastened to an underlying side support structure, wherein a lateral side of the roof panel is fastened to the roof reinforcement frame by means of a hemming joint that is formed by folding a lateral side of the roof panel around an edge of the roof reinforcement frame, and wherein a folded side edge of the roof panel is fastened to the side panel by means of an elongated laser brazing joint, wherein the lateral side structure further comprises an upper connection flange for joining an upper edge of the side panel with the underlying side support structure, wherein the side panel, starting from the upper connection flange, extends outwards to a first fold, and thereafter upwards past the laser brazing joint to a second fold, and thereafter further outwards, and wherein the side panel defines an angle of more than 100 degrees at the second fold.', 'pk': 450347497853844453})]"
      ]
     },
     "execution_count": 35,
     "metadata": {},
     "output_type": "execute_result"
    }
   ],
   "source": [
    "milvus = Milvus(embeddings_minilm, connection_args = connection_args, collection_name = INDEX_NAME)\n",
    "\n",
    "ret_docs_mmr = milvus.max_marginal_relevance_search(query, k=10)\n",
    "ret_docs_sim = milvus.similarity_search_with_score(query, k=10)\n",
    "\n",
    "ret_docs_mmr_tuples = [(doc.page_content, dict_to_tuple(doc.metadata)) for doc in ret_docs_mmr]\n",
    "ret_docs_sim_tuples = [(doc[0].page_content, dict_to_tuple(doc[0].metadata)) for doc in ret_docs_sim]\n",
    "\n",
    "combined_tuples = ret_docs_mmr_tuples + ret_docs_sim_tuples\n",
    "unique_tuples = set(combined_tuples)\n",
    "\n",
    "merged_results = [Document(page_content=content, metadata=dict(metadata)) for content, metadata in unique_tuples][:3]\n",
    "merged_results"
   ]
  },
  {
   "cell_type": "code",
   "execution_count": 36,
   "metadata": {},
   "outputs": [],
   "source": [
    "def process_query(query, INDEX_NAME):\n",
    "    connection_args = {\n",
    "        \"host\": _HOST,\n",
    "        \"port\": _PORT\n",
    "    }\n",
    "    \n",
    "    milvus = Milvus(embeddings_minilm, connection_args = connection_args, collection_name = INDEX_NAME)\n",
    "    ret_docs_mmr = milvus.max_marginal_relevance_search(query, k=10)\n",
    "    ret_docs_sim = milvus.similarity_search_with_score(query, k=10)\n",
    "\n",
    "    ret_docs_mmr_tuples = [(doc.page_content, dict_to_tuple(doc.metadata)) for doc in ret_docs_mmr]\n",
    "    ret_docs_sim_tuples = [(doc[0].page_content, dict_to_tuple(doc[0].metadata)) for doc in ret_docs_sim]\n",
    "\n",
    "    combined_tuples = ret_docs_mmr_tuples + ret_docs_sim_tuples\n",
    "    unique_tuples = set(combined_tuples)\n",
    "\n",
    "    merged_results = [Document(page_content=content, metadata=dict(metadata)) for content, metadata in unique_tuples]\n",
    "    return merged_results"
   ]
  },
  {
   "cell_type": "code",
   "execution_count": 37,
   "metadata": {},
   "outputs": [],
   "source": [
    "# Initialize the model and tokenizer\n",
    "tokenizer = AutoTokenizer.from_pretrained('BAAI/bge-reranker-large')\n",
    "model = AutoModelForSequenceClassification.from_pretrained('BAAI/bge-reranker-large')\n",
    "model.eval()\n",
    "\n",
    "def rerank_pairs(query, candidate_responses, top_k=3):\n",
    "    pairs = [(query, res.page_content) for res in candidate_responses]\n",
    "    \n",
    "    with torch.no_grad():\n",
    "        inputs = tokenizer(pairs, padding=True, truncation=True, return_tensors='pt')\n",
    "        scores = model(**inputs, return_dict=True).logits.view(-1).float()\n",
    "    \n",
    "    scores_list = scores.tolist()\n",
    "    paired_scores = list(zip(candidate_responses, scores_list))\n",
    "    reranked_results = sorted(paired_scores, key=lambda x: -x[1])\n",
    "    return reranked_results[:top_k]"
   ]
  },
  {
   "cell_type": "code",
   "execution_count": 38,
   "metadata": {},
   "outputs": [],
   "source": [
    "def get_results(query, collection_name):\n",
    "    query_results = process_query(query, collection_name)\n",
    "    print(\"\\nRetrieved Chunks from Milvus:\\n{}\".format(\"\\n\\n\".join(res.page_content for res in query_results)))\n",
    "    reranked_results = rerank_pairs(query=query, candidate_responses=query_results)\n",
    "    print(\"\\nReranked Chunks:\\n{}\".format(\"\\n\\n\".join(res.page_content for res in query_results)))\n",
    "\n",
    "    reranked_results_json = []\n",
    "\n",
    "    for result, _ in reranked_results:\n",
    "        result_json = {\n",
    "            \"Patent_Text\": result.page_content,\n",
    "            \"Doc_Identifier\": result.metadata[\"Doc_Identifier\"],\n",
    "            \"Level\": result.metadata[\"Level\"],\n",
    "            \"Assignee\": result.metadata[\"Assignee\"],\n",
    "            \"Inventor\": result.metadata[\"Inventor\"],\n",
    "            \"Title\": result.metadata[\"Title\"],\n",
    "            \"Abstract\": result.metadata[\"Abstract\"],\n",
    "            \"First_Claim\": result.metadata[\"First_Claim\"]\n",
    "        }\n",
    "        reranked_results_json.append(result_json)\n",
    "    return reranked_results_json"
   ]
  },
  {
   "cell_type": "code",
   "execution_count": 39,
   "metadata": {},
   "outputs": [
    {
     "name": "stdout",
     "output_type": "stream",
     "text": [
      "\n",
      "Retrieved Chunks from Milvus:\n",
      "Patent_Text: Title: Vehicle body lower structure\n",
      "Abstract: A vehicle body lower structure may include: a hollow rocker arranged at a lower lateral part of a vehicle body and extending along a front-rear direction of the vehicle body; a power source arranged adjacent to the rocker; an energy absorbing member connected to the power source and arranged under the rocker; and a collar arranged between the rocker and the energy absorbing member. The rocker may be provided with a flange extending downward from a bottom plate of the rocker. A height of the collar above the energy absorbing member may be greater than a height of the flange.\n",
      "\n",
      "Patent_Text: Title: Vehicle body lower structure\n",
      "Abstract: The disclosure provides a vehicle body lower structure. The vehicle body lower structure includes: a deflector, disposed on a vehicle body and movable between a stowed position covering a lower part of the vehicle body and a deployed position protruding downward; and a shaft member, extending in a vehicle left-right direction and rotatably connecting a front end of the deflector to the vehicle body. The deflector is maintained in the deployed position protruding downward by its own weight, and receiving an impact load from below, the deflector moves from the deployed position to the stowed position.\n",
      "\n",
      "Patent_Text: Title: Vehicle body structure\n",
      "Abstract: A vehicle body structure includes a roof structure and a lateral side structure, wherein the roof structure includes a roof panel fastened to an underlying roof reinforcement frame, wherein the lateral side structure includes a side panel fastened to an underlying side support structure, wherein a lateral side of the roof panel is fastened to the roof reinforcement frame by means of a hemming joint that is formed by folding a lateral side of the roof panel around an edge of the roof reinforcement frame, and wherein a folded side edge of the roof panel is fastened to the side panel by means of an elongated laser brazing joint.\n",
      "\n",
      "Patent_Text: Title: Vehicle body lower structure\n",
      "Abstract: A vehicle body lower structure may comprise: a rocker arranged at a lower lateral part of a vehicle body and extending along a front-rear direction of the vehicle body, the rocker being hollow; a power supply package arranged under a floor panel of the vehicle body; and an energy absorbing member fixed to the power supply package and fixed to a bottom plate of the rocker. A side surface of the energy absorbing member located under the rocker may be inclined to face diagonally upward, and a drain hole may be arranged in the bottom plate at a position above the side surface.\n",
      "\n",
      "Patent_Text: Title: Vehicle body lower structure\n",
      "Abstract: A vehicle body lower structure includes a front cross member, a rear side frame, a floor panel, and a front floor frame. The front cross member is disposed in front of a battery in a vehicle. The rear side frame is connected to an end portion of the front cross member on an outward side in a vehicle width direction. The front floor frame forms a closed cross section together with the floor panel and is coupled to the end portion of the front cross member on the outward side in the vehicle width direction.\n",
      "\n",
      "Patent_Text: Title: Vehicle body structure\n",
      "Abstract: The vehicle body structure includes a front floor panel, a rear floor panel positioned lower than the front floor panel, and a connection panel extending from a rear portion of the front floor panel to a front portion of the rear floor panel and inclined or curved so as to be positioned downward toward a rear side. At least the front portion of the connection panel is positioned at the front of the front portion of the front seat.\n",
      "\n",
      "Patent_Text: Title: Lower vehicle-body structure of electric vehicle\n",
      "Abstract: A lower vehicle-body structure of an electric vehicle to increase resistance to lateral collision and also improve front-end collision load transfer performance of a tunnel. The lower vehicle-body structure of an electric vehicle includes a floor having a tunnel formed in a front part at a middle in a vehicle-width direction; and a floor cross member spanning, above the floor, between side sills disposed on opposite sides of the floor. Also, a rear end of the tunnel is located directly in front of the floor cross member, and reinforcing brackets are provided extending from the tunnel toward an upper end of the floor cross member and connected to the upper end of the floor cross member.\n",
      "\n",
      "Patent_Text: Title: Vehicle body structure\n",
      "Abstract: A vehicle body structure includes a front floor panel on which a heel of a pedal operator is placed, and a rear floor panel attached to a front seat. The rear floor panel is positioned lower than the front floor panel. At least part of a seat frame of the front seat is positioned lower than an upper surface of the front floor panel.\n",
      "\n",
      "Patent_Text: Title: Vehicle body lower structure\n",
      "Abstract: The disclosure provides a vehicle body lower structure, which can improve aerodynamic performance and improve driving stability. The vehicle body lower structure includes an airflow guiding plate that is arranged on the vehicle body of a vehicle and is movable between a receiving position covering the lower part of the vehicle body and a deploying position protruding downward. The airflow guiding plate includes a first airflow guiding plate and a second airflow guiding plate. The first airflow guiding plate is arranged in front of the left and right front wheels of the vehicle, and the second airflow guiding plate is arranged under the center of the vehicle body. Moreover, the protruding amount of the first airflow guiding plate is different from the protruding amount of the second airflow guiding plate in the deploying position.\n",
      "\n",
      "Patent_Text: Title: Vehicle-body structure that lowers the front floor height while preventing submarine phenomenon\n",
      "Abstract: A vehicle-body structure prevents a submarine phenomenon of a passenger during a front-end collision and achieves lowering of the vehicle floor-height while maintaining a sufficient number of mounted batteries. Embodiments of a vehicle-body structure include a seat pan that is formed at part of a floor panel and on which a seat cushion is placed, and a battery arranged below the seat pan. A bulging portion that bulges upward is formed at a vehicle front-side of the seat pan. An accessory member is housed inside the bulging portion. An upper-end portion of the accessory member housed in the bulging portion 4 is positioned farther on the upper-side than a lower-end portion of the bulging portion 48a.\n",
      "\n",
      "Patent_Text: Title: Lower vehicle-body structure of vehicle\n",
      "Abstract: A lower vehicle-body structure of a vehicle may include: a floor panel; a side sill; and a frame member that extends in the front-rear direction on the vehicle-width-direction inner side of the side sill and includes a front-rear extended portion that is in abutment against the side sill on the vehicle-width-direction inner side and extends in the vehicle front-rear direction along the side sill. The front-rear extended portion may include: a bottom face portion; an inner wall portion; and an inner-side flange that extends to the vehicle-width-direction inner side from a distal end portion of the inner wall portion and is joined to the floor panel. Deformation facilitating facilitators that facilitate deformation of the bottom face portion in the vehicle width direction when a collision load in the vehicle width direction is input may be formed in the bottom face portion.\n",
      "\n",
      "Patent_Text: Title: Lower vehicle body structure of vehicle\n",
      "Abstract: A lower vehicle body structure of the vehicle may include a side member extending in a longitudinal direction of a vehicle, disposed on both sides in a width direction of the vehicle and having a closed cross-section formed therein; a connecting member connected to the side member at a front or a rear based on front and rear directions of the vehicle and having a closed cross-section formed therein; and at least one pipe unit provided inside in the longitudinal direction of the side member or the connecting member to inflow a working fluid therein.\n",
      "\n",
      "Patent_Text: Title: Upper vehicle-body structure\n",
      "Abstract: The present disclosure relates to an upper vehicle-body structure that suppresses bending deformation of a front pillar portion with respect to a hinge pillar portion by suppressing the crushing of a closed cross-section portion when external force is applied to the front pillar portion in the direction of bending the front pillar portion in the bending direction thereof.\n",
      "\n",
      "Reranked Chunks:\n",
      "Patent_Text: Title: Vehicle body lower structure\n",
      "Abstract: A vehicle body lower structure may include: a hollow rocker arranged at a lower lateral part of a vehicle body and extending along a front-rear direction of the vehicle body; a power source arranged adjacent to the rocker; an energy absorbing member connected to the power source and arranged under the rocker; and a collar arranged between the rocker and the energy absorbing member. The rocker may be provided with a flange extending downward from a bottom plate of the rocker. A height of the collar above the energy absorbing member may be greater than a height of the flange.\n",
      "\n",
      "Patent_Text: Title: Vehicle body lower structure\n",
      "Abstract: The disclosure provides a vehicle body lower structure. The vehicle body lower structure includes: a deflector, disposed on a vehicle body and movable between a stowed position covering a lower part of the vehicle body and a deployed position protruding downward; and a shaft member, extending in a vehicle left-right direction and rotatably connecting a front end of the deflector to the vehicle body. The deflector is maintained in the deployed position protruding downward by its own weight, and receiving an impact load from below, the deflector moves from the deployed position to the stowed position.\n",
      "\n",
      "Patent_Text: Title: Vehicle body structure\n",
      "Abstract: A vehicle body structure includes a roof structure and a lateral side structure, wherein the roof structure includes a roof panel fastened to an underlying roof reinforcement frame, wherein the lateral side structure includes a side panel fastened to an underlying side support structure, wherein a lateral side of the roof panel is fastened to the roof reinforcement frame by means of a hemming joint that is formed by folding a lateral side of the roof panel around an edge of the roof reinforcement frame, and wherein a folded side edge of the roof panel is fastened to the side panel by means of an elongated laser brazing joint.\n",
      "\n",
      "Patent_Text: Title: Vehicle body lower structure\n",
      "Abstract: A vehicle body lower structure may comprise: a rocker arranged at a lower lateral part of a vehicle body and extending along a front-rear direction of the vehicle body, the rocker being hollow; a power supply package arranged under a floor panel of the vehicle body; and an energy absorbing member fixed to the power supply package and fixed to a bottom plate of the rocker. A side surface of the energy absorbing member located under the rocker may be inclined to face diagonally upward, and a drain hole may be arranged in the bottom plate at a position above the side surface.\n",
      "\n",
      "Patent_Text: Title: Vehicle body lower structure\n",
      "Abstract: A vehicle body lower structure includes a front cross member, a rear side frame, a floor panel, and a front floor frame. The front cross member is disposed in front of a battery in a vehicle. The rear side frame is connected to an end portion of the front cross member on an outward side in a vehicle width direction. The front floor frame forms a closed cross section together with the floor panel and is coupled to the end portion of the front cross member on the outward side in the vehicle width direction.\n",
      "\n",
      "Patent_Text: Title: Vehicle body structure\n",
      "Abstract: The vehicle body structure includes a front floor panel, a rear floor panel positioned lower than the front floor panel, and a connection panel extending from a rear portion of the front floor panel to a front portion of the rear floor panel and inclined or curved so as to be positioned downward toward a rear side. At least the front portion of the connection panel is positioned at the front of the front portion of the front seat.\n",
      "\n",
      "Patent_Text: Title: Lower vehicle-body structure of electric vehicle\n",
      "Abstract: A lower vehicle-body structure of an electric vehicle to increase resistance to lateral collision and also improve front-end collision load transfer performance of a tunnel. The lower vehicle-body structure of an electric vehicle includes a floor having a tunnel formed in a front part at a middle in a vehicle-width direction; and a floor cross member spanning, above the floor, between side sills disposed on opposite sides of the floor. Also, a rear end of the tunnel is located directly in front of the floor cross member, and reinforcing brackets are provided extending from the tunnel toward an upper end of the floor cross member and connected to the upper end of the floor cross member.\n",
      "\n",
      "Patent_Text: Title: Vehicle body structure\n",
      "Abstract: A vehicle body structure includes a front floor panel on which a heel of a pedal operator is placed, and a rear floor panel attached to a front seat. The rear floor panel is positioned lower than the front floor panel. At least part of a seat frame of the front seat is positioned lower than an upper surface of the front floor panel.\n",
      "\n",
      "Patent_Text: Title: Vehicle body lower structure\n",
      "Abstract: The disclosure provides a vehicle body lower structure, which can improve aerodynamic performance and improve driving stability. The vehicle body lower structure includes an airflow guiding plate that is arranged on the vehicle body of a vehicle and is movable between a receiving position covering the lower part of the vehicle body and a deploying position protruding downward. The airflow guiding plate includes a first airflow guiding plate and a second airflow guiding plate. The first airflow guiding plate is arranged in front of the left and right front wheels of the vehicle, and the second airflow guiding plate is arranged under the center of the vehicle body. Moreover, the protruding amount of the first airflow guiding plate is different from the protruding amount of the second airflow guiding plate in the deploying position.\n",
      "\n",
      "Patent_Text: Title: Vehicle-body structure that lowers the front floor height while preventing submarine phenomenon\n",
      "Abstract: A vehicle-body structure prevents a submarine phenomenon of a passenger during a front-end collision and achieves lowering of the vehicle floor-height while maintaining a sufficient number of mounted batteries. Embodiments of a vehicle-body structure include a seat pan that is formed at part of a floor panel and on which a seat cushion is placed, and a battery arranged below the seat pan. A bulging portion that bulges upward is formed at a vehicle front-side of the seat pan. An accessory member is housed inside the bulging portion. An upper-end portion of the accessory member housed in the bulging portion 4 is positioned farther on the upper-side than a lower-end portion of the bulging portion 48a.\n",
      "\n",
      "Patent_Text: Title: Lower vehicle-body structure of vehicle\n",
      "Abstract: A lower vehicle-body structure of a vehicle may include: a floor panel; a side sill; and a frame member that extends in the front-rear direction on the vehicle-width-direction inner side of the side sill and includes a front-rear extended portion that is in abutment against the side sill on the vehicle-width-direction inner side and extends in the vehicle front-rear direction along the side sill. The front-rear extended portion may include: a bottom face portion; an inner wall portion; and an inner-side flange that extends to the vehicle-width-direction inner side from a distal end portion of the inner wall portion and is joined to the floor panel. Deformation facilitating facilitators that facilitate deformation of the bottom face portion in the vehicle width direction when a collision load in the vehicle width direction is input may be formed in the bottom face portion.\n",
      "\n",
      "Patent_Text: Title: Lower vehicle body structure of vehicle\n",
      "Abstract: A lower vehicle body structure of the vehicle may include a side member extending in a longitudinal direction of a vehicle, disposed on both sides in a width direction of the vehicle and having a closed cross-section formed therein; a connecting member connected to the side member at a front or a rear based on front and rear directions of the vehicle and having a closed cross-section formed therein; and at least one pipe unit provided inside in the longitudinal direction of the side member or the connecting member to inflow a working fluid therein.\n",
      "\n",
      "Patent_Text: Title: Upper vehicle-body structure\n",
      "Abstract: The present disclosure relates to an upper vehicle-body structure that suppresses bending deformation of a front pillar portion with respect to a hinge pillar portion by suppressing the crushing of a closed cross-section portion when external force is applied to the front pillar portion in the direction of bending the front pillar portion in the bending direction thereof.\n"
     ]
    }
   ],
   "source": [
    "results = get_results(query, INDEX_NAME)"
   ]
  },
  {
   "cell_type": "code",
   "execution_count": 40,
   "metadata": {},
   "outputs": [
    {
     "data": {
      "text/plain": [
       "3"
      ]
     },
     "execution_count": 40,
     "metadata": {},
     "output_type": "execute_result"
    }
   ],
   "source": [
    "len(results)"
   ]
  },
  {
   "cell_type": "code",
   "execution_count": 41,
   "metadata": {},
   "outputs": [
    {
     "data": {
      "text/plain": [
       "[{'Patent_Text': 'Patent_Text: Title: Lower vehicle-body structure of electric vehicle\\nAbstract: A lower vehicle-body structure of an electric vehicle to increase resistance to lateral collision and also improve front-end collision load transfer performance of a tunnel. The lower vehicle-body structure of an electric vehicle includes a floor having a tunnel formed in a front part at a middle in a vehicle-width direction; and a floor cross member spanning, above the floor, between side sills disposed on opposite sides of the floor. Also, a rear end of the tunnel is located directly in front of the floor cross member, and reinforcing brackets are provided extending from the tunnel toward an upper end of the floor cross member and connected to the upper end of the floor cross member.',\n",
       "  'Doc_Identifier': 'US11299211B2',\n",
       "  'Level': 'Patent Set',\n",
       "  'Assignee': 'Mazda Motor Corp',\n",
       "  'Inventor': 'Yamato MATSUDA , Nobuyuki Nakayama , Morihide Yamada , Katsuhito Kouno , Toshihiro Takebayashi',\n",
       "  'Title': 'Lower vehicle-body structure of electric vehicle',\n",
       "  'Abstract': 'A lower vehicle-body structure of an electric vehicle to increase resistance to lateral collision and also improve front-end collision load transfer performance of a tunnel. The lower vehicle-body structure of an electric vehicle includes a floor having a tunnel formed in a front part at a middle in a vehicle-width direction; and a floor cross member spanning, above the floor, between side sills disposed on opposite sides of the floor. Also, a rear end of the tunnel is located directly in front of the floor cross member, and reinforcing brackets are provided extending from the tunnel toward an upper end of the floor cross member and connected to the upper end of the floor cross member.',\n",
       "  'First_Claim': '1. A lower vehicle-body structure of an electric vehicle comprising:a dash panel;a floor having a tunnel formed in a front part below the dash panel at a middle in a vehicle-width direction, wherein the tunnel houses an expanding portion expanding upward, of a battery unit disposed below the floor; anda floor cross member spanning, above the floor, between side sills disposed on opposite sides of the floor,whereina rear end of the tunnel is located directly in front of the floor cross member,a reinforcing bracket is provided extending from the tunnel toward the floor cross member on a rear side of the tunnel, spaced upward from the floor, and connected to an upper part of the floor cross member,the reinforcing bracket includes a tunnel reinforcing bracket extending rearward from the tunnel, and a console support bracket provided on a rear side of the tunnel reinforcing bracket and connected to a rear part of the tunnel reinforcing bracket and the floor cross member on the rear side of the tunnel reinforcing bracket,the tunnel reinforcing bracket and the console support bracket are separately formed and partially overlap each other at the rear part of the tunnel reinforcing bracket,the tunnel reinforcing bracket and the console support bracket each include opposite side walls and an upper wall to form an inverted U-shaped section in front view of the vehicle, anda recess is continuously formed across the upper wall of the tunnel reinforcing bracket and the upper wall of the console support bracket.'},\n",
       " {'Patent_Text': 'Patent_Text: Title: Lower vehicle body structure of vehicle\\nAbstract: A lower vehicle body structure of the vehicle may include a side member extending in a longitudinal direction of a vehicle, disposed on both sides in a width direction of the vehicle and having a closed cross-section formed therein; a connecting member connected to the side member at a front or a rear based on front and rear directions of the vehicle and having a closed cross-section formed therein; and at least one pipe unit provided inside in the longitudinal direction of the side member or the connecting member to inflow a working fluid therein.',\n",
       "  'Doc_Identifier': 'US11479192B2',\n",
       "  'Level': 'Patent Set',\n",
       "  'Assignee': 'Hyundai Motor Co , Kia Corp',\n",
       "  'Inventor': 'Yeonho Kim , Sungil Kim , Deok Ki Kim , Jeawan Kim , Jae Yeon Kim',\n",
       "  'Title': 'Lower vehicle body structure of vehicle',\n",
       "  'Abstract': 'A lower vehicle body structure of the vehicle may include a side member extending in a longitudinal direction of a vehicle, disposed on both sides in a width direction of the vehicle and having a closed cross-section formed therein; a connecting member connected to the side member at a front or a rear based on front and rear directions of the vehicle and having a closed cross-section formed therein; and at least one pipe unit provided inside in the longitudinal direction of the side member or the connecting member to inflow a working fluid therein.',\n",
       "  'First_Claim': '1. A lower vehicle body structure of a vehicle, the structure comprising:a side member extending in a longitudinal direction of a vehicle, disposed on a first side and a second side in a width direction of the vehicle, and having a closed cross-section formed therein;a connecting member connected to the side member at a front or a rear based on front and rear directions of the vehicle and having a closed cross-section formed therein; andat least one pipe unit provided in the longitudinal direction of the side member or inside the connecting member to inflow a working fluid therein,wherein the at least one pipe unit includes:at least one pipe member formed in a hollow shape and provided inside the side member or the connecting member;a pipe connecting member mounted at a position to which the at least one pipe member is connected; anda length variable member coupled to the at least one pipe member through the pipe connecting member and having a variable length.'},\n",
       " {'Patent_Text': 'Patent_Text: Title: Vehicle body lower structure\\nAbstract: A vehicle body lower structure includes a front cross member, a rear side frame, a floor panel, and a front floor frame. The front cross member is disposed in front of a battery in a vehicle. The rear side frame is connected to an end portion of the front cross member on an outward side in a vehicle width direction. The front floor frame forms a closed cross section together with the floor panel and is coupled to the end portion of the front cross member on the outward side in the vehicle width direction.',\n",
       "  'Doc_Identifier': 'US20230094923A1',\n",
       "  'Level': 'Patent Set',\n",
       "  'Assignee': 'Honda Motor Co Ltd',\n",
       "  'Inventor': 'Hirotaka Hayakawa , Shungo Chino , Takashi Nitta , Kazuya Kimura , Shuma Yoshioka',\n",
       "  'Title': 'Vehicle body lower structure',\n",
       "  'Abstract': 'A vehicle body lower structure includes a front cross member, a rear side frame, a floor panel, and a front floor frame. The front cross member is disposed in front of a battery in a vehicle. The rear side frame is connected to an end portion of the front cross member on an outward side in a vehicle width direction. The front floor frame forms a closed cross section together with the floor panel and is coupled to the end portion of the front cross member on the outward side in the vehicle width direction.',\n",
       "  'First_Claim': '1. A vehicle body lower structure comprising:a front cross member that is disposed in front of a battery in a vehicle; and a rear side frame that is connected to an end portion of the front cross member on an outward side in a vehicle width direction and is disposed on an outward side of the battery in the vehicle width direction, wherein the vehicle body lower structure comprises:a floor panel that is disposed in front of the front cross member in the vehicle; anda front floor frame that forms a closed cross section together with the floor panel and is coupled to the end portion on the outward side in the vehicle width direction.'}]"
      ]
     },
     "execution_count": 41,
     "metadata": {},
     "output_type": "execute_result"
    }
   ],
   "source": [
    "results"
   ]
  },
  {
   "cell_type": "code",
   "execution_count": null,
   "metadata": {},
   "outputs": [],
   "source": []
  }
 ],
 "metadata": {
  "kernelspec": {
   "display_name": "env_voice_rag",
   "language": "python",
   "name": "python3"
  },
  "language_info": {
   "codemirror_mode": {
    "name": "ipython",
    "version": 3
   },
   "file_extension": ".py",
   "mimetype": "text/x-python",
   "name": "python",
   "nbconvert_exporter": "python",
   "pygments_lexer": "ipython3",
   "version": "3.12.2"
  }
 },
 "nbformat": 4,
 "nbformat_minor": 2
}
